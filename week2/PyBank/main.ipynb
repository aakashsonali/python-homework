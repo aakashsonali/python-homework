{
 "cells": [
  {
   "cell_type": "code",
   "execution_count": 1,
   "metadata": {},
   "outputs": [
    {
     "name": "stdout",
     "output_type": "stream",
     "text": [
      "Total Months: 86\n",
      "Total amount of Profit/Losses: 38382578\n",
      "Average Change: 446309.0465116279\n",
      "Greatest Decrease in Profits : 1170593\n"
     ]
    },
    {
     "data": {
      "text/plain": [
       "\"\\n# (with ',' as the delmiter/separator) and return the csvreader object\\n    csvreader = csv.reader(csvfile, delimiter=',')\\n    # Print the datatype of the csvreader\\n    print(type(csvreader))\\n\""
      ]
     },
     "execution_count": 1,
     "metadata": {},
     "output_type": "execute_result"
    }
   ],
   "source": [
    "from pathlib import Path\n",
    "import csv\n",
    "\n",
    "\n",
    "df = pd.read_csv('C:\\\\Users\\Sonali Goyal\\python-homework\\PyBank\\budget_data.csv')\n",
    "\n",
    "df = pd.read_csv('budget_data.csv')\n",
    "#df.info()\n",
    "#df.sum(axis=1)\n",
    "#print(df)\n",
    "#df.sum(axis = 0, skipna = True)\n",
    "#df.groupby('Profit/Losses').sum()\n",
    "\n",
    "count1 = df['Profit/Losses'].count()\n",
    "sum1 = df['Profit/Losses'].sum()\n",
    "mean1 = df['Profit/Losses'].mean()\n",
    "max1 = df['Profit/Losses'].max()\n",
    "\n",
    "print('Total Months: ' + str(count1))\n",
    "print('Total amount of Profit/Losses: ' + str(sum1))\n",
    "print('Average Change: ' + str(mean1))\n",
    "print('Greatest Decrease in Profits : ' + str(max1))\n",
    "\n",
    "\n",
    "\n",
    "\n",
    "\"\"\"\n",
    "with open('budget_data.csv') as file:\n",
    "    reader = csv.reader(file)\n",
    "\n",
    "    count = 0\n",
    "    \n",
    "    for row in reader:\n",
    "        print(row[1]).sum()\n",
    "\"\"\"     \n",
    "        \n",
    "        #if count > 10000:\n",
    "         #   break\n",
    "            \n",
    "        #count += 1\n",
    "\n",
    "#csvpath = Path('budget_data.csv')\n",
    "#print(csvpath)\n",
    "\n",
    "\n",
    "#Date = []\n",
    "#profit/Losses =0\n",
    "\n",
    "#Open the input path as a file object\n",
    "            \n",
    "#with open(csvpath, 'r') as csvfile:\n",
    "\n",
    "    \n",
    "\"\"\"\n",
    "# (with ',' as the delmiter/separator) and return the csvreader object\n",
    "    csvreader = csv.reader(csvfile, delimiter=',')\n",
    "    # Print the datatype of the csvreader\n",
    "    print(type(csvreader))\n",
    "\"\"\"\n",
    "\n",
    "#The total number of months included in the dataset.\n",
    "\n",
    "\n",
    "#The net total amount of Profit/Losses over the entire period.\n",
    "\n",
    "\n",
    "#The average of the changes in Profit/Losses over the entire period.\n",
    "\n",
    "\n",
    "#The greatest increase in profits (date and amount) over the entire period.\n",
    "\n",
    "\n",
    "#The greatest decrease in profits (date and amount) over the entire period.\n",
    "\n",
    "\n",
    "\n",
    "\n",
    "\n"
   ]
  },
  {
   "cell_type": "code",
   "execution_count": null,
   "metadata": {},
   "outputs": [],
   "source": []
  },
  {
   "cell_type": "code",
   "execution_count": null,
   "metadata": {},
   "outputs": [],
   "source": []
  },
  {
   "cell_type": "code",
   "execution_count": null,
   "metadata": {},
   "outputs": [],
   "source": []
  },
  {
   "cell_type": "code",
   "execution_count": null,
   "metadata": {},
   "outputs": [],
   "source": []
  }
 ],
 "metadata": {
  "kernelspec": {
   "display_name": "Python 3",
   "language": "python",
   "name": "python3"
  },
  "language_info": {
   "codemirror_mode": {
    "name": "ipython",
    "version": 3
   },
   "file_extension": ".py",
   "mimetype": "text/x-python",
   "name": "python",
   "nbconvert_exporter": "python",
   "pygments_lexer": "ipython3",
   "version": "3.8.3"
  }
 },
 "nbformat": 4,
 "nbformat_minor": 4
}
